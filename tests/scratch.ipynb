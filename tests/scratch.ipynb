{
 "cells": [
  {
   "cell_type": "code",
   "execution_count": 8,
   "id": "3ef2d28f",
   "metadata": {},
   "outputs": [
    {
     "name": "stdout",
     "output_type": "stream",
     "text": [
      "{'object': 'database', 'id': '292a679a-b1d9-8055-b662-ff60d9691ea0', 'cover': None, 'icon': None, 'created_time': '2025-10-20T17:42:00.000Z', 'created_by': {'object': 'user', 'id': '51e135e2-eb7c-414a-91c5-5f76d31e350a'}, 'last_edited_by': {'object': 'user', 'id': '51e135e2-eb7c-414a-91c5-5f76d31e350a'}, 'last_edited_time': '2025-10-20T19:23:00.000Z', 'title': [{'type': 'text', 'text': {'content': 'Ingredients', 'link': None}, 'annotations': {'bold': False, 'italic': False, 'strikethrough': False, 'underline': False, 'code': False, 'color': 'default'}, 'plain_text': 'Ingredients', 'href': None}], 'description': [], 'is_inline': True, 'properties': {'Recipes': {'id': 'kNvE', 'name': 'Recipes', 'description': None, 'type': 'relation', 'relation': {'database_id': '292a679a-b1d9-802d-a697-c3ae75571f56', 'data_source_id': '292a679a-b1d9-801c-9773-000b9448aa0d', 'type': 'dual_property', 'dual_property': {'synced_property_name': 'Ingredients', 'synced_property_id': 'u%3Ajr'}}}, 'Name': {'id': 'title', 'name': 'Name', 'description': None, 'type': 'title', 'title': {}}}, 'parent': {'type': 'page_id', 'page_id': '292a679a-b1d9-8013-99aa-f757213ae04d'}, 'url': 'https://www.notion.so/292a679ab1d98055b662ff60d9691ea0', 'public_url': None, 'archived': False, 'in_trash': False, 'request_id': '8da4fdb4-1cd1-4059-9ad3-eac20eeb0e5e'}\n"
     ]
    }
   ],
   "source": [
    "from notion_client import Client\n",
    "import os\n",
    "notion = Client(auth=os.environ[\"NOTION_TOKEN\"])\n",
    "db = notion.databases.retrieve(\"292a679ab1d98055b662ff60d9691ea0\")\n",
    "print(db)\n"
   ]
  },
  {
   "cell_type": "code",
   "execution_count": null,
   "id": "9d5df004",
   "metadata": {},
   "outputs": [
    {
     "ename": "NameError",
     "evalue": "name '__file__' is not defined",
     "output_type": "error",
     "traceback": [
      "\u001b[31m---------------------------------------------------------------------------\u001b[39m",
      "\u001b[31mNameError\u001b[39m                                 Traceback (most recent call last)",
      "\u001b[36mCell\u001b[39m\u001b[36m \u001b[39m\u001b[32mIn[10]\u001b[39m\u001b[32m, line 3\u001b[39m\n\u001b[32m      1\u001b[39m \u001b[38;5;28;01mimport\u001b[39;00m\u001b[38;5;250m \u001b[39m\u001b[34;01mos\u001b[39;00m\n\u001b[32m      2\u001b[39m \u001b[38;5;28;01mimport\u001b[39;00m\u001b[38;5;250m \u001b[39m\u001b[34;01msys\u001b[39;00m\n\u001b[32m----> \u001b[39m\u001b[32m3\u001b[39m sys.path.append(os.path.abspath(os.path.join(os.path.dirname(\u001b[34;43m__file__\u001b[39;49m), \u001b[33m'\u001b[39m\u001b[33m..\u001b[39m\u001b[33m'\u001b[39m)))\n\u001b[32m      4\u001b[39m \u001b[38;5;28;01mfrom\u001b[39;00m\u001b[38;5;250m \u001b[39m\u001b[34;01msrc\u001b[39;00m\u001b[34;01m.\u001b[39;00m\u001b[34;01mingest\u001b[39;00m\u001b[34;01m.\u001b[39;00m\u001b[34;01mparse_llm_gemini\u001b[39;00m\u001b[38;5;250m \u001b[39m\u001b[38;5;28;01mimport\u001b[39;00m parse_recipe_text\n\u001b[32m      5\u001b[39m sample = \u001b[33m\"\u001b[39m\u001b[33mSpaghetti Aglio e Olio: Cook spaghetti. Sauté garlic in olive oil, toss, season with salt and parsley.\u001b[39m\u001b[33m\"\u001b[39m\n",
      "\u001b[31mNameError\u001b[39m: name '__file__' is not defined"
     ]
    }
   ],
   "source": [
    "\n",
    "from src.ingest.parse_llm_gemini import parse_recipe_text\n",
    "sample = \"Spaghetti Aglio e Olio: Cook spaghetti. Sauté garlic in olive oil, toss, season with salt and parsley.\"\n",
    "recipe = parse_recipe_text(sample)\n",
    "print(recipe.model_dump_json(indent=2))\n"
   ]
  }
 ],
 "metadata": {
  "kernelspec": {
   "display_name": ".venv",
   "language": "python",
   "name": "python3"
  },
  "language_info": {
   "codemirror_mode": {
    "name": "ipython",
    "version": 3
   },
   "file_extension": ".py",
   "mimetype": "text/x-python",
   "name": "python",
   "nbconvert_exporter": "python",
   "pygments_lexer": "ipython3",
   "version": "3.12.0"
  }
 },
 "nbformat": 4,
 "nbformat_minor": 5
}
