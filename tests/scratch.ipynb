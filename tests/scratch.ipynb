{
 "cells": [
  {
   "cell_type": "code",
   "execution_count": 8,
   "id": "3ef2d28f",
   "metadata": {},
   "outputs": [
    {
     "name": "stdout",
     "output_type": "stream",
     "text": [
      "{'object': 'database', 'id': '292a679a-b1d9-8055-b662-ff60d9691ea0', 'cover': None, 'icon': None, 'created_time': '2025-10-20T17:42:00.000Z', 'created_by': {'object': 'user', 'id': '51e135e2-eb7c-414a-91c5-5f76d31e350a'}, 'last_edited_by': {'object': 'user', 'id': '51e135e2-eb7c-414a-91c5-5f76d31e350a'}, 'last_edited_time': '2025-10-20T19:23:00.000Z', 'title': [{'type': 'text', 'text': {'content': 'Ingredients', 'link': None}, 'annotations': {'bold': False, 'italic': False, 'strikethrough': False, 'underline': False, 'code': False, 'color': 'default'}, 'plain_text': 'Ingredients', 'href': None}], 'description': [], 'is_inline': True, 'properties': {'Recipes': {'id': 'kNvE', 'name': 'Recipes', 'description': None, 'type': 'relation', 'relation': {'database_id': '292a679a-b1d9-802d-a697-c3ae75571f56', 'data_source_id': '292a679a-b1d9-801c-9773-000b9448aa0d', 'type': 'dual_property', 'dual_property': {'synced_property_name': 'Ingredients', 'synced_property_id': 'u%3Ajr'}}}, 'Name': {'id': 'title', 'name': 'Name', 'description': None, 'type': 'title', 'title': {}}}, 'parent': {'type': 'page_id', 'page_id': '292a679a-b1d9-8013-99aa-f757213ae04d'}, 'url': 'https://www.notion.so/292a679ab1d98055b662ff60d9691ea0', 'public_url': None, 'archived': False, 'in_trash': False, 'request_id': '8da4fdb4-1cd1-4059-9ad3-eac20eeb0e5e'}\n"
     ]
    }
   ],
   "source": [
    "from notion_client import Client\n",
    "import os\n",
    "notion = Client(auth=os.environ[\"NOTION_TOKEN\"])\n",
    "db = notion.databases.retrieve(\"292a679ab1d98055b662ff60d9691ea0\")\n",
    "print(db)\n"
   ]
  },
  {
   "cell_type": "code",
   "execution_count": 13,
   "id": "9d5df004",
   "metadata": {},
   "outputs": [
    {
     "name": "stdout",
     "output_type": "stream",
     "text": [
      "{\n",
      "  \"title\": \"Spaghetti Aglio e Olio\",\n",
      "  \"source_url\": null,\n",
      "  \"yield_text\": null,\n",
      "  \"servings\": 4.0,\n",
      "  \"time\": {\n",
      "    \"prep_min\": 10.0,\n",
      "    \"cook_min\": 10.0,\n",
      "    \"total_min\": 20.0\n",
      "  },\n",
      "  \"ingredients\": [\n",
      "    {\n",
      "      \"raw\": \"spaghetti\",\n",
      "      \"name\": \"spaghetti\",\n",
      "      \"quantity\": null,\n",
      "      \"unit\": \"\",\n",
      "      \"notes\": \"\"\n",
      "    },\n",
      "    {\n",
      "      \"raw\": \"garlic\",\n",
      "      \"name\": \"garlic\",\n",
      "      \"quantity\": null,\n",
      "      \"unit\": \"\",\n",
      "      \"notes\": \"\"\n",
      "    },\n",
      "    {\n",
      "      \"raw\": \"olive oil\",\n",
      "      \"name\": \"olive oil\",\n",
      "      \"quantity\": null,\n",
      "      \"unit\": \"\",\n",
      "      \"notes\": \"\"\n",
      "    },\n",
      "    {\n",
      "      \"raw\": \"salt\",\n",
      "      \"name\": \"salt\",\n",
      "      \"quantity\": null,\n",
      "      \"unit\": \"\",\n",
      "      \"notes\": \"\"\n",
      "    },\n",
      "    {\n",
      "      \"raw\": \"parsley\",\n",
      "      \"name\": \"parsley\",\n",
      "      \"quantity\": null,\n",
      "      \"unit\": \"\",\n",
      "      \"notes\": \"\"\n",
      "    }\n",
      "  ],\n",
      "  \"steps\": [\n",
      "    \"Cook spaghetti.\",\n",
      "    \"Sauté garlic in olive oil.\",\n",
      "    \"Toss spaghetti with garlic and olive oil.\",\n",
      "    \"Season with salt and parsley.\"\n",
      "  ]\n",
      "}\n"
     ]
    }
   ],
   "source": [
    "import sys, os\n",
    "sys.path.append(os.path.abspath(\"../\"))\n",
    "from src.ingest.parse_llm_gemini import parse_recipe_text\n",
    "sample = \"Spaghetti Aglio e Olio: Cook spaghetti. Sauté garlic in olive oil, toss, season with salt and parsley. It takes 20 minutes and serves 4. Prep takes 10-12 minutes\"\n",
    "recipe = parse_recipe_text(sample)\n",
    "print(recipe.model_dump_json(indent=2))\n"
   ]
  },
  {
   "cell_type": "code",
   "execution_count": null,
   "id": "a750aacb",
   "metadata": {},
   "outputs": [],
   "source": [
    "# get the properties of the Recipe, Ingredients, and Recipe_Ingredients dbs"
   ]
  }
 ],
 "metadata": {
  "kernelspec": {
   "display_name": ".venv",
   "language": "python",
   "name": "python3"
  },
  "language_info": {
   "codemirror_mode": {
    "name": "ipython",
    "version": 3
   },
   "file_extension": ".py",
   "mimetype": "text/x-python",
   "name": "python",
   "nbconvert_exporter": "python",
   "pygments_lexer": "ipython3",
   "version": "3.12.0"
  }
 },
 "nbformat": 4,
 "nbformat_minor": 5
}
